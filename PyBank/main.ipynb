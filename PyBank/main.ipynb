{
 "cells": [
  {
   "cell_type": "markdown",
   "id": "f2cbf45a-4a40-405f-988f-469486e7b24f",
   "metadata": {},
   "source": [
    "# Pybank project"
   ]
  },
  {
   "cell_type": "code",
   "execution_count": 6,
   "id": "170cf99c-c57e-4053-bbc8-a48d6f456305",
   "metadata": {},
   "outputs": [
    {
     "name": "stdout",
     "output_type": "stream",
     "text": [
      "Financial Analysis\n",
      "-------------------\n",
      "Total Months:  86\n",
      "Total:  38382578\n",
      "Average change: $ -2315.12\n",
      "Greatest increase in profits:  Feb-2012 ($ 1926159 )\n",
      "Greatest decrease in profits:  Sep-2013 ($ -2196167 )\n"
     ]
    }
   ],
   "source": [
    "#Assigning Variables \n",
    "total_months = 0 \n",
    "#create a list for months of change \n",
    "month_of_change = [] \n",
    "#create a list for net change \n",
    "net_change_list = [] \n",
    "greatest_increase = [\"\", 0] \n",
    "greatest_decrease = [\"\", 9999999999999999999] \n",
    "total_net = 0 \n",
    "import csv\n",
    "with open('budget_data.csv') as budget_data: \n",
    "    reader = csv.reader(budget_data) \n",
    "    header = next(reader) \n",
    "    # Extract first row to avoid appending to net_change_list \n",
    "    #going to use the for loop command, as it automatically helps in adding the total \n",
    "    first_row = next(reader) \n",
    "    total_months = total_months + 1 \n",
    "    total_net = total_net + int(first_row[1]) \n",
    "    prev_net = int(first_row[1]) \n",
    "    for row in reader: \n",
    "        total_months = total_months + 1 #total\n",
    "        total_net = total_net + int(row[1]) \n",
    "        net_change = int(row[1])-prev_net #net change\n",
    "        prev_net = int(row[1]) \n",
    "        net_change_list = net_change_list + [net_change] \n",
    "        month_of_change = month_of_change + [row[0]] \n",
    "        net_monthly_average=round(sum(net_change_list)/len(net_change_list),2) # monthly average rounded to 2 decimals\n",
    "        # Calculate the greatest increase \n",
    "        if net_change > greatest_increase[1]: \n",
    "            greatest_increase[0] = row[0] \n",
    "            greatest_increase[1] = net_change \n",
    "        # Calculate the greatest increase \n",
    "        if net_change < greatest_decrease[1]: \n",
    "            greatest_decrease[0] = row[0] \n",
    "            greatest_decrease[1] = net_change \n",
    "\n",
    "# Testing all results are printing correctly\n",
    "            \n",
    "print ('Financial Analysis')\n",
    "print ('-------------------')\n",
    "print ('Total Months: ',total_months)\n",
    "print ('Total: ',total_net)\n",
    "print ('Average change: $',round(sum(net_change_list)/len(net_change_list),2))\n",
    "print ('Greatest increase in profits: ',greatest_increase[0],'($',greatest_increase[1],')')\n",
    "print ('Greatest decrease in profits: ',greatest_decrease[0],'($',greatest_decrease[1],')')\n"
   ]
  },
  {
   "cell_type": "code",
   "execution_count": 7,
   "id": "ff72ded1-0ade-4fc2-9e18-5cd063c3d6b6",
   "metadata": {},
   "outputs": [],
   "source": [
    "#Printing to the output text document\n",
    "with open('PyBank.txt', \"w\") as txt_file:\n",
    "    txt_file.write(f\"Financial Analysis\\n\")\n",
    "    txt_file.write(f\"----------------------------\\n\")\n",
    "    txt_file.write(f\"Total Months: {total_months}\\n\")\n",
    "    txt_file.write(f\"Total: ${total_net}\\n\")\n",
    "    txt_file.write(f\"Average  Change: ${net_monthly_average}\\n\")\n",
    "    txt_file.write(f\"Greatest Increase in Profits: {greatest_increase[0]} (${greatest_increase[1]})\\n\")\n",
    "    txt_file.write(f\"Greatest Decrease in Profits: {greatest_decrease[0]} (${greatest_decrease[1]})\\n\")"
   ]
  },
  {
   "cell_type": "code",
   "execution_count": null,
   "id": "9f84929a-43e8-47f9-ba61-16072faca1ed",
   "metadata": {},
   "outputs": [],
   "source": []
  }
 ],
 "metadata": {
  "kernelspec": {
   "display_name": "Python 3 (ipykernel)",
   "language": "python",
   "name": "python3"
  },
  "language_info": {
   "codemirror_mode": {
    "name": "ipython",
    "version": 3
   },
   "file_extension": ".py",
   "mimetype": "text/x-python",
   "name": "python",
   "nbconvert_exporter": "python",
   "pygments_lexer": "ipython3",
   "version": "3.8.8"
  }
 },
 "nbformat": 4,
 "nbformat_minor": 5
}
