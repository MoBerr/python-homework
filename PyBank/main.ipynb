{
 "cells": [
  {
   "cell_type": "markdown",
   "id": "f2cbf45a-4a40-405f-988f-469486e7b24f",
   "metadata": {},
   "source": [
    "# Pybank project"
   ]
  },
  {
   "cell_type": "code",
   "execution_count": 13,
   "id": "170cf99c-c57e-4053-bbc8-a48d6f456305",
   "metadata": {},
   "outputs": [
    {
     "ename": "NameError",
     "evalue": "name 'csv' is not defined",
     "output_type": "error",
     "traceback": [
      "\u001b[1;31m---------------------------------------------------------------------------\u001b[0m",
      "\u001b[1;31mNameError\u001b[0m                                 Traceback (most recent call last)",
      "\u001b[1;32m~\\AppData\\Local\\Temp/ipykernel_14608/1824784688.py\u001b[0m in \u001b[0;36m<module>\u001b[1;34m\u001b[0m\n\u001b[0;32m     10\u001b[0m \u001b[0mtotal_net\u001b[0m \u001b[1;33m=\u001b[0m \u001b[1;36m0\u001b[0m\u001b[1;33m\u001b[0m\u001b[1;33m\u001b[0m\u001b[0m\n\u001b[0;32m     11\u001b[0m \u001b[1;32mwith\u001b[0m \u001b[0mopen\u001b[0m\u001b[1;33m(\u001b[0m\u001b[1;34m'budget_data.csv'\u001b[0m\u001b[1;33m)\u001b[0m \u001b[1;32mas\u001b[0m \u001b[0mbudget_data\u001b[0m\u001b[1;33m:\u001b[0m\u001b[1;33m\u001b[0m\u001b[1;33m\u001b[0m\u001b[0m\n\u001b[1;32m---> 12\u001b[1;33m     \u001b[0mreader\u001b[0m \u001b[1;33m=\u001b[0m \u001b[0mcsv\u001b[0m\u001b[1;33m.\u001b[0m\u001b[0mreader\u001b[0m\u001b[1;33m(\u001b[0m\u001b[0mbudget_data\u001b[0m\u001b[1;33m)\u001b[0m\u001b[1;33m\u001b[0m\u001b[1;33m\u001b[0m\u001b[0m\n\u001b[0m\u001b[0;32m     13\u001b[0m     \u001b[1;31m# Read the header row\u001b[0m\u001b[1;33m\u001b[0m\u001b[1;33m\u001b[0m\u001b[1;33m\u001b[0m\u001b[0m\n\u001b[0;32m     14\u001b[0m     \u001b[0mheader\u001b[0m \u001b[1;33m=\u001b[0m \u001b[0mnext\u001b[0m\u001b[1;33m(\u001b[0m\u001b[0mreader\u001b[0m\u001b[1;33m)\u001b[0m\u001b[1;33m\u001b[0m\u001b[1;33m\u001b[0m\u001b[0m\n",
      "\u001b[1;31mNameError\u001b[0m: name 'csv' is not defined"
     ]
    }
   ],
   "source": [
    "#PyBank Assignemnt \n",
    "#Assigning Variables \n",
    "total_months = 0 \n",
    "#create a list for months of change \n",
    "month_of_change = [] \n",
    "#create a list for net change \n",
    "net_change_list = [] \n",
    "greatest_increase = [\"\", 0] \n",
    "greatest_decrease = [\"\", 9999999999999999999] \n",
    "total_net = 0 \n",
    "with open('budget_data.csv') as budget_data: \n",
    "    reader = csv.reader(budget_data) \n",
    "    # Read the header row \n",
    "    header = next(reader) \n",
    "    # Extract first row to avoid appending to net_change_list \n",
    "    #going to use the for loop command, as it automatically helps in adding the total \n",
    "    first_row = next(reader) \n",
    "    total_months = total_months + 1 \n",
    "    total_net = total_net + int(first_row[1]) \n",
    "    prev_net = int(first_row[1]) \n",
    "    for row in reader: \n",
    "        # Track the total \n",
    "        total_months = total_months + 1 \n",
    "        total_net = total_net + int(row[1]) \n",
    "        # Track the net change \n",
    "        net_change = int(row[1])-prev_net \n",
    "        prev_net = int(row[1]) \n",
    "        net_change_list = net_change_list + [net_change] \n",
    "        month_of_change = month_of_change + [row[0]] \n",
    "        #Calculate the net monthly average\n",
    "        net_monthly_average=round(sum(net_change_list)/len(net_change_list),2)\n",
    "        # Calculate the greatest increase \n",
    "        if net_change > greatest_increase[1]: \n",
    "            greatest_increase[0] = row[0] \n",
    "            greatest_increase[1] = net_change \n",
    "        # Calculate the greatest increase \n",
    "        if net_change < greatest_decrease[1]: \n",
    "            greatest_decrease[0] = row[0] \n",
    "            greatest_decrease[1] = net_change \n",
    "\n",
    "print ('Financial Analysis')\n",
    "print ('-------------------')\n",
    "print ('Total Months: ',total_months)\n",
    "print ('Total: ',total_net)\n",
    "print ('Average change: $',round(sum(net_change_list)/len(net_change_list),2))\n",
    "print ('Greatest increase in profits: ',greatest_increase[0],'($',greatest_increase[1],')')\n",
    "print ('Greatest decrease in profits: ',greatest_decrease[0],'($',greatest_decrease[1],')')\n"
   ]
  },
  {
   "cell_type": "code",
   "execution_count": null,
   "id": "ff72ded1-0ade-4fc2-9e18-5cd063c3d6b6",
   "metadata": {},
   "outputs": [],
   "source": []
  }
 ],
 "metadata": {
  "kernelspec": {
   "display_name": "Python 3 (ipykernel)",
   "language": "python",
   "name": "python3"
  },
  "language_info": {
   "codemirror_mode": {
    "name": "ipython",
    "version": 3
   },
   "file_extension": ".py",
   "mimetype": "text/x-python",
   "name": "python",
   "nbconvert_exporter": "python",
   "pygments_lexer": "ipython3",
   "version": "3.8.8"
  }
 },
 "nbformat": 4,
 "nbformat_minor": 5
}
